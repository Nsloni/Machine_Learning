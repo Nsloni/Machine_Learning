{
 "cells": [
  {
   "cell_type": "code",
   "execution_count": 1,
   "id": "c9412d62-7fc8-4089-8e16-5cc1a2957b0e",
   "metadata": {},
   "outputs": [],
   "source": [
    "x = \"i am Nagaraj Loni, i am Student Of BITM Ballari, i am good boy\""
   ]
  },
  {
   "cell_type": "code",
   "execution_count": 3,
   "id": "98a86f56-eccb-486b-a366-7a9288d3653b",
   "metadata": {},
   "outputs": [],
   "source": [
    "from nltk.tokenize import word_tokenize"
   ]
  },
  {
   "cell_type": "code",
   "execution_count": 4,
   "id": "fb77e6a6-92f8-4509-858c-9235c0258fe4",
   "metadata": {},
   "outputs": [
    {
     "data": {
      "text/plain": [
       "['i',\n",
       " 'am',\n",
       " 'Nagaraj',\n",
       " 'Loni',\n",
       " ',',\n",
       " 'i',\n",
       " 'am',\n",
       " 'Student',\n",
       " 'Of',\n",
       " 'BITM',\n",
       " 'Ballari',\n",
       " ',',\n",
       " 'i',\n",
       " 'am',\n",
       " 'good',\n",
       " 'boy']"
      ]
     },
     "execution_count": 4,
     "metadata": {},
     "output_type": "execute_result"
    }
   ],
   "source": [
    "w = word_tokenize(x)\n",
    "w"
   ]
  },
  {
   "cell_type": "code",
   "execution_count": 6,
   "id": "672ec88e-8e80-4ea5-ba54-86df83c20071",
   "metadata": {},
   "outputs": [
    {
     "name": "stderr",
     "output_type": "stream",
     "text": [
      "[nltk_data] Downloading package genesis to\n",
      "[nltk_data]     C:\\Users\\nagar\\AppData\\Roaming\\nltk_data...\n",
      "[nltk_data]   Unzipping corpora\\genesis.zip.\n"
     ]
    },
    {
     "data": {
      "text/plain": [
       "True"
      ]
     },
     "execution_count": 6,
     "metadata": {},
     "output_type": "execute_result"
    }
   ],
   "source": [
    "import nltk\n",
    "nltk.download('genesis')\n"
   ]
  },
  {
   "cell_type": "code",
   "execution_count": 8,
   "id": "1307caad-31ae-4249-8afb-fb4f418cf106",
   "metadata": {},
   "outputs": [],
   "source": [
    "from nltk.collocations import BigramCollocationFinder, TrigramCollocationFinder,ngrams"
   ]
  },
  {
   "cell_type": "code",
   "execution_count": 9,
   "id": "5bf46973-97a3-4a5b-b2e8-8f326e3d16a0",
   "metadata": {},
   "outputs": [],
   "source": [
    "b = BigramCollocationFinder.from_words(w)"
   ]
  },
  {
   "cell_type": "code",
   "execution_count": 10,
   "id": "d318284e-844a-4f2e-8138-9ddb31cfb2d9",
   "metadata": {},
   "outputs": [
    {
     "data": {
      "text/plain": [
       "FreqDist({('i', 'am'): 3, (',', 'i'): 2, ('am', 'Nagaraj'): 1, ('Nagaraj', 'Loni'): 1, ('Loni', ','): 1, ('am', 'Student'): 1, ('Student', 'Of'): 1, ('Of', 'BITM'): 1, ('BITM', 'Ballari'): 1, ('Ballari', ','): 1, ...})"
      ]
     },
     "execution_count": 10,
     "metadata": {},
     "output_type": "execute_result"
    }
   ],
   "source": [
    "b.ngram_fd"
   ]
  },
  {
   "cell_type": "code",
   "execution_count": 11,
   "id": "9ba456d0-e78c-4bfc-bae7-3934ff405ba8",
   "metadata": {},
   "outputs": [
    {
     "data": {
      "text/plain": [
       "dict_keys([('i', 'am'), ('am', 'Nagaraj'), ('Nagaraj', 'Loni'), ('Loni', ','), (',', 'i'), ('am', 'Student'), ('Student', 'Of'), ('Of', 'BITM'), ('BITM', 'Ballari'), ('Ballari', ','), ('am', 'good'), ('good', 'boy')])"
      ]
     },
     "execution_count": 11,
     "metadata": {},
     "output_type": "execute_result"
    }
   ],
   "source": [
    "b.ngram_fd.keys()"
   ]
  },
  {
   "cell_type": "code",
   "execution_count": 12,
   "id": "c6292654-d0f0-4adf-b506-959aaacdee39",
   "metadata": {},
   "outputs": [],
   "source": [
    "# 2\n",
    "\n",
    "t = TrigramCollocationFinder.from_words(w)"
   ]
  },
  {
   "cell_type": "code",
   "execution_count": 13,
   "id": "bd470e98-0c57-47ec-aca6-a60118de13be",
   "metadata": {},
   "outputs": [
    {
     "data": {
      "text/plain": [
       "FreqDist({(',', 'i', 'am'): 2, ('i', 'am', 'Nagaraj'): 1, ('am', 'Nagaraj', 'Loni'): 1, ('Nagaraj', 'Loni', ','): 1, ('Loni', ',', 'i'): 1, ('i', 'am', 'Student'): 1, ('am', 'Student', 'Of'): 1, ('Student', 'Of', 'BITM'): 1, ('Of', 'BITM', 'Ballari'): 1, ('BITM', 'Ballari', ','): 1, ...})"
      ]
     },
     "execution_count": 13,
     "metadata": {},
     "output_type": "execute_result"
    }
   ],
   "source": [
    "t.ngram_fd"
   ]
  },
  {
   "cell_type": "code",
   "execution_count": 15,
   "id": "1e087fd3-4696-41b0-8dca-81d8cd4caa14",
   "metadata": {},
   "outputs": [],
   "source": [
    "n  = ngrams(w,1)"
   ]
  },
  {
   "cell_type": "code",
   "execution_count": 16,
   "id": "f47d8482-871f-4ac6-9055-df2918abb49a",
   "metadata": {},
   "outputs": [
    {
     "name": "stdout",
     "output_type": "stream",
     "text": [
      "('i',)\n",
      "('am',)\n",
      "('Nagaraj',)\n",
      "('Loni',)\n",
      "(',',)\n",
      "('i',)\n",
      "('am',)\n",
      "('Student',)\n",
      "('Of',)\n",
      "('BITM',)\n",
      "('Ballari',)\n",
      "(',',)\n",
      "('i',)\n",
      "('am',)\n",
      "('good',)\n",
      "('boy',)\n"
     ]
    }
   ],
   "source": [
    "for i in n:\n",
    "    print(i)"
   ]
  },
  {
   "cell_type": "code",
   "execution_count": 14,
   "id": "b151b0a3-3e04-45ba-8a98-ff582443dc5e",
   "metadata": {},
   "outputs": [
    {
     "name": "stdout",
     "output_type": "stream",
     "text": [
      "Thanks\n"
     ]
    }
   ],
   "source": [
    "print(\"Thanks\")"
   ]
  }
 ],
 "metadata": {
  "kernelspec": {
   "display_name": "Python 3 (ipykernel)",
   "language": "python",
   "name": "python3"
  },
  "language_info": {
   "codemirror_mode": {
    "name": "ipython",
    "version": 3
   },
   "file_extension": ".py",
   "mimetype": "text/x-python",
   "name": "python",
   "nbconvert_exporter": "python",
   "pygments_lexer": "ipython3",
   "version": "3.12.3"
  }
 },
 "nbformat": 4,
 "nbformat_minor": 5
}
