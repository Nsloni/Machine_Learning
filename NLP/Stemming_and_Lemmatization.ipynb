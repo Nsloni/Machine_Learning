{
 "cells": [
  {
   "cell_type": "code",
   "execution_count": null,
   "id": "b425bbf7-f48b-4ae1-a7c4-e849714be1c3",
   "metadata": {},
   "outputs": [],
   "source": [
    "# 1.Stemming\n",
    "\n",
    "# Ex: changing,changed,change ---->chang\n"
   ]
  },
  {
   "cell_type": "code",
   "execution_count": 5,
   "id": "c49cb045-8d8b-4063-97e8-cfb970b87cfb",
   "metadata": {},
   "outputs": [
    {
     "name": "stdout",
     "output_type": "stream",
     "text": [
      "Wel-Come To NLP Tutorial 2024\n"
     ]
    }
   ],
   "source": [
    "print(\"Wel-Come To NLP Tutorial 2024\")"
   ]
  },
  {
   "cell_type": "code",
   "execution_count": 2,
   "id": "a147b88f-663e-4d3a-98dd-925e58437dbc",
   "metadata": {},
   "outputs": [],
   "source": [
    "from nltk.stem import LancasterStemmer, RegexpStemmer, PorterStemmer, SnowballStemmer"
   ]
  },
  {
   "cell_type": "code",
   "execution_count": 3,
   "id": "43177a6a-afcd-4004-80dd-df50c379f726",
   "metadata": {},
   "outputs": [],
   "source": [
    "l = LancasterStemmer()\n",
    "r = RegexpStemmer('ing')\n",
    "p = PorterStemmer()\n",
    "s = SnowballStemmer('english')"
   ]
  },
  {
   "cell_type": "code",
   "execution_count": 6,
   "id": "8fee0c4e-5cfc-46df-bc44-9ec31aeb193f",
   "metadata": {},
   "outputs": [
    {
     "data": {
      "text/plain": [
       "'chang'"
      ]
     },
     "execution_count": 6,
     "metadata": {},
     "output_type": "execute_result"
    }
   ],
   "source": [
    "l.stem(\"changing\")"
   ]
  },
  {
   "cell_type": "code",
   "execution_count": 7,
   "id": "7d3b70ff-a72a-473e-86f3-a4fa3590f287",
   "metadata": {},
   "outputs": [
    {
     "data": {
      "text/plain": [
       "'Changed'"
      ]
     },
     "execution_count": 7,
     "metadata": {},
     "output_type": "execute_result"
    }
   ],
   "source": [
    "# Only For -------> ing\n",
    "\n",
    "r.stem(\"Changed\")"
   ]
  },
  {
   "cell_type": "code",
   "execution_count": 8,
   "id": "7b1577be-a81c-456f-93e2-7422d5114453",
   "metadata": {},
   "outputs": [
    {
     "data": {
      "text/plain": [
       "'chang'"
      ]
     },
     "execution_count": 8,
     "metadata": {},
     "output_type": "execute_result"
    }
   ],
   "source": [
    "l.stem(\"changed\")"
   ]
  },
  {
   "cell_type": "code",
   "execution_count": null,
   "id": "eac78e37-ba8a-4f71-8a87-63e59058fb01",
   "metadata": {},
   "outputs": [],
   "source": [
    "# Lemmatization\n",
    "\n",
    "# Ex: 1. Studying--------------> Study"
   ]
  },
  {
   "cell_type": "code",
   "execution_count": 13,
   "id": "210ba019-72c2-4908-8a75-0a032d1e2115",
   "metadata": {},
   "outputs": [],
   "source": [
    "from nltk.stem import WordNetLemmatizer"
   ]
  },
  {
   "cell_type": "code",
   "execution_count": 14,
   "id": "34204f7e-bf30-490f-96b2-fcf14cf42745",
   "metadata": {},
   "outputs": [],
   "source": [
    "wnl = WordNetLemmatizer()"
   ]
  },
  {
   "cell_type": "code",
   "execution_count": 15,
   "id": "54d4bb1e-ecf1-4604-8ef2-1c80cf113fca",
   "metadata": {},
   "outputs": [
    {
     "name": "stderr",
     "output_type": "stream",
     "text": [
      "[nltk_data] Downloading package wordnet to\n",
      "[nltk_data]     C:\\Users\\nagar\\AppData\\Roaming\\nltk_data...\n"
     ]
    },
    {
     "data": {
      "text/plain": [
       "True"
      ]
     },
     "execution_count": 15,
     "metadata": {},
     "output_type": "execute_result"
    }
   ],
   "source": [
    "import nltk\n",
    "nltk.download('wordnet')"
   ]
  },
  {
   "cell_type": "code",
   "execution_count": 32,
   "id": "6d3977d6-3b1e-4b21-8fa6-52207cebafc8",
   "metadata": {},
   "outputs": [
    {
     "name": "stdout",
     "output_type": "stream",
     "text": [
      "Studying\n",
      "hardrock\n",
      "abacus\n"
     ]
    }
   ],
   "source": [
    "wnl.lemmatize('Studying')\n",
    "wnl\n",
    "\n",
    "print(wnl.lemmatize('Studying'))  # Output: study\n",
    "\n",
    "print(wnl.lemmatize('hardrock'))  # Output: hardrock\n",
    "\n",
    "print(wnl.lemmatize('abaci'))  # Output: abacus"
   ]
  },
  {
   "cell_type": "code",
   "execution_count": 16,
   "id": "43fa6a01-f136-43aa-8e7f-eabbde96ba4b",
   "metadata": {},
   "outputs": [
    {
     "name": "stdout",
     "output_type": "stream",
     "text": [
      "dog\n",
      "church\n",
      "aardwolf\n",
      "abacus\n",
      "hardrock\n"
     ]
    }
   ],
   "source": [
    "print(wnl.lemmatize('dogs'))  # Output: dog\n",
    "print(wnl.lemmatize('churches'))  # Output: church\n",
    "print(wnl.lemmatize('aardwolves'))  # Output: aardwolf\n",
    "print(wnl.lemmatize('abaci'))  # Output: abacus\n",
    "print(wnl.lemmatize('hardrock'))  # Output: hardrock"
   ]
  },
  {
   "cell_type": "code",
   "execution_count": 19,
   "id": "d8c02154-9eb1-426b-8530-f898f9d852ca",
   "metadata": {},
   "outputs": [
    {
     "name": "stdout",
     "output_type": "stream",
     "text": [
      "mouse\n"
     ]
    }
   ],
   "source": [
    "print(wnl.lemmatize('mice')) "
   ]
  },
  {
   "cell_type": "code",
   "execution_count": 20,
   "id": "5e5195f8-2e81-484f-8c03-7c15bddc5cd5",
   "metadata": {},
   "outputs": [
    {
     "name": "stdout",
     "output_type": "stream",
     "text": [
      "Thanks\n"
     ]
    }
   ],
   "source": [
    "print(\"Thanks\")"
   ]
  }
 ],
 "metadata": {
  "kernelspec": {
   "display_name": "Python 3 (ipykernel)",
   "language": "python",
   "name": "python3"
  },
  "language_info": {
   "codemirror_mode": {
    "name": "ipython",
    "version": 3
   },
   "file_extension": ".py",
   "mimetype": "text/x-python",
   "name": "python",
   "nbconvert_exporter": "python",
   "pygments_lexer": "ipython3",
   "version": "3.12.3"
  }
 },
 "nbformat": 4,
 "nbformat_minor": 5
}
