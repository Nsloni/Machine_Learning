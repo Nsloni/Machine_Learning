{
 "cells": [
  {
   "cell_type": "code",
   "execution_count": 1,
   "id": "9669d59b-fb88-4f38-b7e4-225fab158db4",
   "metadata": {},
   "outputs": [],
   "source": [
    "var = \"I an nagaraj loni pursuving bachuler of (engineering), in BITM Ballari at a 2nd. year or 4th sem student; we are the 2026 'passout' bacth in your college\""
   ]
  },
  {
   "cell_type": "code",
   "execution_count": 2,
   "id": "4401b149-2a7c-424b-accf-4f84dc9b0687",
   "metadata": {},
   "outputs": [
    {
     "data": {
      "text/plain": [
       "'I an nagaraj loni pursuving bachuler of (engineering) in BITM Ballari at a 2nd year or 4th sem student we are the 2026 passout bacth in your college'"
      ]
     },
     "execution_count": 2,
     "metadata": {},
     "output_type": "execute_result"
    }
   ],
   "source": [
    "var"
   ]
  },
  {
   "cell_type": "code",
   "execution_count": null,
   "id": "5e8431c2-3e68-47c8-920f-915bba0a3715",
   "metadata": {},
   "outputs": [],
   "source": [
    "# Tokenization Like FRAGAMENTATION \n",
    "\n",
    "# Removing Error and Given Correct Answer"
   ]
  },
  {
   "cell_type": "code",
   "execution_count": 4,
   "id": "b9d9fc1c-83cd-4998-9764-37be72477d1d",
   "metadata": {},
   "outputs": [],
   "source": [
    "from nltk.tokenize import word_tokenize, sent_tokenize"
   ]
  },
  {
   "cell_type": "code",
   "execution_count": 7,
   "id": "c68c52bd-e2ad-4d6e-9a08-3661b2baedee",
   "metadata": {},
   "outputs": [],
   "source": [
    "sent = sent_tokenize(var)"
   ]
  },
  {
   "cell_type": "code",
   "execution_count": 8,
   "id": "b124753a-d34b-4a58-acf1-0bd4cee7b510",
   "metadata": {},
   "outputs": [
    {
     "data": {
      "text/plain": [
       "['I an nagaraj loni pursuving bachuler of (engineering) in BITM Ballari at a 2nd year or 4th sem student we are the 2026 passout bacth in your college']"
      ]
     },
     "execution_count": 8,
     "metadata": {},
     "output_type": "execute_result"
    }
   ],
   "source": [
    "sent"
   ]
  },
  {
   "cell_type": "code",
   "execution_count": 9,
   "id": "a609dff0-262f-4cec-918e-10c68d871d63",
   "metadata": {},
   "outputs": [
    {
     "name": "stdout",
     "output_type": "stream",
     "text": [
      "I an nagaraj loni pursuving bachuler of (engineering) in BITM Ballari at a 2nd year or 4th sem student we are the 2026 passout bacth in your college\n",
      "\n"
     ]
    }
   ],
   "source": [
    "for i in sent:\n",
    "    print(i)\n",
    "    print()"
   ]
  },
  {
   "cell_type": "code",
   "execution_count": 10,
   "id": "ced1d1f5-b3ae-490e-8039-a561ca888bd9",
   "metadata": {},
   "outputs": [
    {
     "data": {
      "text/plain": [
       "['I',\n",
       " 'an',\n",
       " 'nagaraj',\n",
       " 'loni',\n",
       " 'pursuving',\n",
       " 'bachuler',\n",
       " 'of',\n",
       " '(',\n",
       " 'engineering',\n",
       " ')',\n",
       " 'in',\n",
       " 'BITM',\n",
       " 'Ballari',\n",
       " 'at',\n",
       " 'a',\n",
       " '2nd',\n",
       " 'year',\n",
       " 'or',\n",
       " '4th',\n",
       " 'sem',\n",
       " 'student',\n",
       " 'we',\n",
       " 'are',\n",
       " 'the',\n",
       " '2026',\n",
       " 'passout',\n",
       " 'bacth',\n",
       " 'in',\n",
       " 'your',\n",
       " 'college']"
      ]
     },
     "execution_count": 10,
     "metadata": {},
     "output_type": "execute_result"
    }
   ],
   "source": [
    "word = word_tokenize(var)\n",
    "word"
   ]
  },
  {
   "cell_type": "code",
   "execution_count": null,
   "id": "a3ccd843-bcc0-4bc0-b960-982c4b4ff1fa",
   "metadata": {},
   "outputs": [],
   "source": []
  },
  {
   "cell_type": "code",
   "execution_count": null,
   "id": "47bea54c-4423-41b1-a206-938bac4b0fab",
   "metadata": {},
   "outputs": [],
   "source": []
  }
 ],
 "metadata": {
  "kernelspec": {
   "display_name": "Python 3 (ipykernel)",
   "language": "python",
   "name": "python3"
  },
  "language_info": {
   "codemirror_mode": {
    "name": "ipython",
    "version": 3
   },
   "file_extension": ".py",
   "mimetype": "text/x-python",
   "name": "python",
   "nbconvert_exporter": "python",
   "pygments_lexer": "ipython3",
   "version": "3.12.3"
  }
 },
 "nbformat": 4,
 "nbformat_minor": 5
}
