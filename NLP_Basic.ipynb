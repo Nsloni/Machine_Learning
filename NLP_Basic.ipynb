{
 "cells": [
  {
   "cell_type": "code",
   "execution_count": 11,
   "id": "75ace8a3-c031-4c64-9f2e-8b56807426c8",
   "metadata": {},
   "outputs": [],
   "source": [
    "x = \"I an nagaraj loni pursuving bachuler of (engineering) in BITM Ballari at a 2nd year or 4th sem student we are the 2026 passout bacth in your college\""
   ]
  },
  {
   "cell_type": "code",
   "execution_count": 2,
   "id": "35025396-c43a-4fb6-bb92-21a6121c605b",
   "metadata": {},
   "outputs": [
    {
     "name": "stdout",
     "output_type": "stream",
     "text": [
      "I an nagaraj loni pursuving bachuler of engineering in BITM Ballari at a 2nd year or 4th sem student we are the 2026 passout bacth in your college\n"
     ]
    }
   ],
   "source": [
    "print(x)"
   ]
  },
  {
   "cell_type": "code",
   "execution_count": 12,
   "id": "927e23bd-7522-4a17-9d96-b4d464684791",
   "metadata": {},
   "outputs": [],
   "source": [
    "from nltk.tokenize import word_tokenize"
   ]
  },
  {
   "cell_type": "code",
   "execution_count": 13,
   "id": "df959e8f-235d-4b5b-851b-920d11fd1a93",
   "metadata": {},
   "outputs": [],
   "source": [
    "w = word_tokenize(x)"
   ]
  },
  {
   "cell_type": "code",
   "execution_count": 14,
   "id": "559b6953-c3ed-402d-8ffa-3520e76bfa76",
   "metadata": {},
   "outputs": [
    {
     "data": {
      "text/plain": [
       "['I',\n",
       " 'an',\n",
       " 'nagaraj',\n",
       " 'loni',\n",
       " 'pursuving',\n",
       " 'bachuler',\n",
       " 'of',\n",
       " '(',\n",
       " 'engineering',\n",
       " ')',\n",
       " 'in',\n",
       " 'BITM',\n",
       " 'Ballari',\n",
       " 'at',\n",
       " 'a',\n",
       " '2nd',\n",
       " 'year',\n",
       " 'or',\n",
       " '4th',\n",
       " 'sem',\n",
       " 'student',\n",
       " 'we',\n",
       " 'are',\n",
       " 'the',\n",
       " '2026',\n",
       " 'passout',\n",
       " 'bacth',\n",
       " 'in',\n",
       " 'your',\n",
       " 'college']"
      ]
     },
     "execution_count": 14,
     "metadata": {},
     "output_type": "execute_result"
    }
   ],
   "source": [
    "w"
   ]
  },
  {
   "cell_type": "code",
   "execution_count": 15,
   "id": "6e77c343-6094-48c4-878d-4fe19fd7a456",
   "metadata": {},
   "outputs": [],
   "source": [
    "# parts of Speech\n",
    "\n",
    "from nltk import pos_tag"
   ]
  },
  {
   "cell_type": "code",
   "execution_count": 16,
   "id": "d706bb5f-b2b9-4c0c-9e15-c82b5a42b073",
   "metadata": {},
   "outputs": [],
   "source": [
    "p = pos_tag(w)"
   ]
  },
  {
   "cell_type": "code",
   "execution_count": 17,
   "id": "66aa90c5-ad75-4828-9f42-de1ae697d8ad",
   "metadata": {},
   "outputs": [
    {
     "name": "stderr",
     "output_type": "stream",
     "text": [
      "[nltk_data] Downloading package averaged_perceptron_tagger to\n",
      "[nltk_data]     C:\\Users\\nagar\\AppData\\Roaming\\nltk_data...\n",
      "[nltk_data]   Package averaged_perceptron_tagger is already up-to-\n",
      "[nltk_data]       date!\n"
     ]
    },
    {
     "data": {
      "text/plain": [
       "True"
      ]
     },
     "execution_count": 17,
     "metadata": {},
     "output_type": "execute_result"
    }
   ],
   "source": [
    "import nltk\n",
    "nltk.download('averaged_perceptron_tagger')"
   ]
  },
  {
   "cell_type": "code",
   "execution_count": 18,
   "id": "16ba0943-8994-4b97-aa03-bf99f96b3778",
   "metadata": {},
   "outputs": [
    {
     "data": {
      "text/plain": [
       "[('I', 'PRP'),\n",
       " ('an', 'DT'),\n",
       " ('nagaraj', 'JJ'),\n",
       " ('loni', 'NN'),\n",
       " ('pursuving', 'VBG'),\n",
       " ('bachuler', 'NN'),\n",
       " ('of', 'IN'),\n",
       " ('(', '('),\n",
       " ('engineering', 'NN'),\n",
       " (')', ')'),\n",
       " ('in', 'IN'),\n",
       " ('BITM', 'NNP'),\n",
       " ('Ballari', 'NNP'),\n",
       " ('at', 'IN'),\n",
       " ('a', 'DT'),\n",
       " ('2nd', 'CD'),\n",
       " ('year', 'NN'),\n",
       " ('or', 'CC'),\n",
       " ('4th', 'CD'),\n",
       " ('sem', 'JJ'),\n",
       " ('student', 'NN'),\n",
       " ('we', 'PRP'),\n",
       " ('are', 'VBP'),\n",
       " ('the', 'DT'),\n",
       " ('2026', 'CD'),\n",
       " ('passout', 'NN'),\n",
       " ('bacth', 'NN'),\n",
       " ('in', 'IN'),\n",
       " ('your', 'PRP$'),\n",
       " ('college', 'NN')]"
      ]
     },
     "execution_count": 18,
     "metadata": {},
     "output_type": "execute_result"
    }
   ],
   "source": [
    "p"
   ]
  },
  {
   "cell_type": "code",
   "execution_count": null,
   "id": "1c35b32e-a407-4d65-85c8-cb0e0ca23d2e",
   "metadata": {},
   "outputs": [],
   "source": [
    "#   TEXT PRE PROCESSING TECHNIQUES\n",
    "\n",
    "# Hello Google Open You Tube Then open Youtube \n",
    "# Talking With Google\n",
    "\n",
    "# Test Tech\n",
    "\n",
    "# Voice ----------------> Text  -------------> Output"
   ]
  },
  {
   "cell_type": "code",
   "execution_count": null,
   "id": "65c136ce-a286-419f-8d78-b0086bdf5e57",
   "metadata": {},
   "outputs": [],
   "source": [
    "# Tell me about Your Self\n",
    "\n",
    "# Sentence having Many mistakes Convert to Normal--> Correct Format\n",
    "\n",
    "# Remove mistakes from Give Text\n",
    "\n",
    "# There are many forms Like 1.Spelling Correction 2.Chat Word Treatment 3.Remove--URLs,\n",
    "# HTML Tags,Tokenizer, Stop words removal.N-Grams,Stemming etc................\n"
   ]
  },
  {
   "cell_type": "code",
   "execution_count": null,
   "id": "64fdb06c-4e5a-49cf-8118-685a78148683",
   "metadata": {},
   "outputs": [],
   "source": [
    "# Tokennization\n",
    "\n",
    "# It like fragmentation Sentence Divided into Smalller units Then easy to Correction"
   ]
  }
 ],
 "metadata": {
  "kernelspec": {
   "display_name": "Python 3 (ipykernel)",
   "language": "python",
   "name": "python3"
  },
  "language_info": {
   "codemirror_mode": {
    "name": "ipython",
    "version": 3
   },
   "file_extension": ".py",
   "mimetype": "text/x-python",
   "name": "python",
   "nbconvert_exporter": "python",
   "pygments_lexer": "ipython3",
   "version": "3.12.3"
  }
 },
 "nbformat": 4,
 "nbformat_minor": 5
}
