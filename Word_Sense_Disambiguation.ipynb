{
 "cells": [
  {
   "cell_type": "code",
   "execution_count": null,
   "id": "6f9f00f2-da81-42be-ab9d-dd529f8aeb64",
   "metadata": {},
   "outputs": [],
   "source": [
    "# Mouse is Running [ELLI]\n",
    "# Mouse Working  [COMPUTER COMPONENT]\n",
    "\n",
    "# WORD SENSE DISAMBIGUTION\n",
    "\n",
    "# find based on Sound,looking"
   ]
  },
  {
   "cell_type": "code",
   "execution_count": 1,
   "id": "5598b90c-ce74-4e72-a64a-5cc94fc6b3bb",
   "metadata": {},
   "outputs": [],
   "source": [
    "x = \"Sunrise (or sunup) is the moment when the upper rim of the Sun appears on the horizon in the morning.\""
   ]
  },
  {
   "cell_type": "code",
   "execution_count": 2,
   "id": "e2116b24-973f-421c-b6a5-7c1567d6800c",
   "metadata": {},
   "outputs": [
    {
     "data": {
      "text/plain": [
       "'Sunrise (or sunup) is the moment when the upper rim of the Sun appears on the horizon in the morning.'"
      ]
     },
     "execution_count": 2,
     "metadata": {},
     "output_type": "execute_result"
    }
   ],
   "source": [
    "x"
   ]
  },
  {
   "cell_type": "code",
   "execution_count": 4,
   "id": "8be87ef0-40fc-41d6-985d-b8e2b6886943",
   "metadata": {},
   "outputs": [],
   "source": [
    "from  nltk.wsd import lesk\n",
    "\n",
    "from nltk.tokenize import word_tokenize"
   ]
  },
  {
   "cell_type": "code",
   "execution_count": 5,
   "id": "8f9313a7-3b6d-4cd3-ad5e-423478dcb6c7",
   "metadata": {},
   "outputs": [],
   "source": [
    "l = lesk(word_tokenize(x),\"sun\")"
   ]
  },
  {
   "cell_type": "code",
   "execution_count": 7,
   "id": "cf85964b-0cd8-420e-9742-cff9717add60",
   "metadata": {},
   "outputs": [
    {
     "data": {
      "text/plain": [
       "'the star that is the source of light and heat for the planets in the solar system'"
      ]
     },
     "execution_count": 7,
     "metadata": {},
     "output_type": "execute_result"
    }
   ],
   "source": [
    "l.definition()"
   ]
  },
  {
   "cell_type": "code",
   "execution_count": 9,
   "id": "30482023-7444-4878-8e9c-8e7d62bc27fc",
   "metadata": {},
   "outputs": [],
   "source": [
    "y = \"A computer mouse (plural mice, also mouses)[nb 1] is a hand-held pointing device that detects two-dimensional motion relative to a surface.\""
   ]
  },
  {
   "cell_type": "code",
   "execution_count": 10,
   "id": "f01e78e8-90f1-44a6-8503-7ce6b77e2522",
   "metadata": {},
   "outputs": [
    {
     "data": {
      "text/plain": [
       "'A computer mouse (plural mice, also mouses)[nb 1] is a hand-held pointing device that detects two-dimensional motion relative to a surface.'"
      ]
     },
     "execution_count": 10,
     "metadata": {},
     "output_type": "execute_result"
    }
   ],
   "source": [
    "y"
   ]
  },
  {
   "cell_type": "code",
   "execution_count": 11,
   "id": "e4886287-153d-4e95-b2fb-04b1bd83b893",
   "metadata": {},
   "outputs": [],
   "source": [
    "l = lesk(word_tokenize(x),\"mouse\")"
   ]
  },
  {
   "cell_type": "code",
   "execution_count": 12,
   "id": "1f7aca4f-114b-432d-9aa6-4277fb650e66",
   "metadata": {},
   "outputs": [
    {
     "data": {
      "text/plain": [
       "'a hand-operated electronic device that controls the coordinates of a cursor on your computer screen as you move it around on a pad; on the bottom of the device is a ball that rolls on the surface of the pad'"
      ]
     },
     "execution_count": 12,
     "metadata": {},
     "output_type": "execute_result"
    }
   ],
   "source": [
    "l.definition()"
   ]
  },
  {
   "cell_type": "code",
   "execution_count": 13,
   "id": "644fb7bf-dd9a-4d7f-83c9-0edf2160e0dc",
   "metadata": {},
   "outputs": [
    {
     "name": "stdout",
     "output_type": "stream",
     "text": [
      "Thanks\n"
     ]
    }
   ],
   "source": [
    "print(\"Thanks\")"
   ]
  }
 ],
 "metadata": {
  "kernelspec": {
   "display_name": "Python 3 (ipykernel)",
   "language": "python",
   "name": "python3"
  },
  "language_info": {
   "codemirror_mode": {
    "name": "ipython",
    "version": 3
   },
   "file_extension": ".py",
   "mimetype": "text/x-python",
   "name": "python",
   "nbconvert_exporter": "python",
   "pygments_lexer": "ipython3",
   "version": "3.12.3"
  }
 },
 "nbformat": 4,
 "nbformat_minor": 5
}
