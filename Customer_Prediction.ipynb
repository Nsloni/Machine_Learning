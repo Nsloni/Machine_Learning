{
 "cells": [
  {
   "cell_type": "code",
   "execution_count": 27,
   "id": "04b8892c-e1e5-43e4-ba05-7f9425b12ec5",
   "metadata": {},
   "outputs": [],
   "source": [
    "import pandas as pd\n",
    "from sklearn.preprocessing import StandardScaler\n",
    "from sklearn.model_selection import train_test_split"
   ]
  },
  {
   "cell_type": "code",
   "execution_count": 2,
   "id": "6bd6a4d8-3e0b-4775-8c20-594386b8f632",
   "metadata": {},
   "outputs": [],
   "source": [
    "dataset = pd.read_csv(\"Customer_Prediction.csv\")"
   ]
  },
  {
   "cell_type": "code",
   "execution_count": 3,
   "id": "ddca6ec4-6d75-40fd-80ed-1f51cb464440",
   "metadata": {},
   "outputs": [
    {
     "data": {
      "text/html": [
       "<div>\n",
       "<style scoped>\n",
       "    .dataframe tbody tr th:only-of-type {\n",
       "        vertical-align: middle;\n",
       "    }\n",
       "\n",
       "    .dataframe tbody tr th {\n",
       "        vertical-align: top;\n",
       "    }\n",
       "\n",
       "    .dataframe thead th {\n",
       "        text-align: right;\n",
       "    }\n",
       "</style>\n",
       "<table border=\"1\" class=\"dataframe\">\n",
       "  <thead>\n",
       "    <tr style=\"text-align: right;\">\n",
       "      <th></th>\n",
       "      <th>Creadit_Score</th>\n",
       "      <th>Age</th>\n",
       "      <th>Tenure</th>\n",
       "      <th>Balance</th>\n",
       "      <th>Number_Of_Products</th>\n",
       "      <th>HasCrCardis</th>\n",
       "      <th>Active_Member</th>\n",
       "      <th>Estimated_Salary</th>\n",
       "      <th>Exited</th>\n",
       "    </tr>\n",
       "  </thead>\n",
       "  <tbody>\n",
       "    <tr>\n",
       "      <th>0</th>\n",
       "      <td>567</td>\n",
       "      <td>23</td>\n",
       "      <td>1</td>\n",
       "      <td>34554</td>\n",
       "      <td>1</td>\n",
       "      <td>0</td>\n",
       "      <td>0</td>\n",
       "      <td>6757</td>\n",
       "      <td>1</td>\n",
       "    </tr>\n",
       "    <tr>\n",
       "      <th>1</th>\n",
       "      <td>598</td>\n",
       "      <td>54</td>\n",
       "      <td>4</td>\n",
       "      <td>34567</td>\n",
       "      <td>4</td>\n",
       "      <td>1</td>\n",
       "      <td>1</td>\n",
       "      <td>6435</td>\n",
       "      <td>0</td>\n",
       "    </tr>\n",
       "    <tr>\n",
       "      <th>2</th>\n",
       "      <td>678</td>\n",
       "      <td>54</td>\n",
       "      <td>3</td>\n",
       "      <td>0</td>\n",
       "      <td>1</td>\n",
       "      <td>0</td>\n",
       "      <td>1</td>\n",
       "      <td>688</td>\n",
       "      <td>1</td>\n",
       "    </tr>\n",
       "  </tbody>\n",
       "</table>\n",
       "</div>"
      ],
      "text/plain": [
       "   Creadit_Score  Age  Tenure  Balance  Number_Of_Products  HasCrCardis  \\\n",
       "0            567   23       1    34554                   1            0   \n",
       "1            598   54       4    34567                   4            1   \n",
       "2            678   54       3        0                   1            0   \n",
       "\n",
       "   Active_Member  Estimated_Salary  Exited  \n",
       "0              0              6757       1  \n",
       "1              1              6435       0  \n",
       "2              1               688       1  "
      ]
     },
     "execution_count": 3,
     "metadata": {},
     "output_type": "execute_result"
    }
   ],
   "source": [
    "dataset.head(3)"
   ]
  },
  {
   "cell_type": "code",
   "execution_count": 4,
   "id": "a248397e-bf58-499a-bc99-01d4a49177f6",
   "metadata": {},
   "outputs": [
    {
     "data": {
      "text/plain": [
       "Creadit_Score         0\n",
       "Age                   0\n",
       "Tenure                0\n",
       "Balance               0\n",
       "Number_Of_Products    0\n",
       "HasCrCardis           0\n",
       "Active_Member         0\n",
       "Estimated_Salary      0\n",
       "Exited                0\n",
       "dtype: int64"
      ]
     },
     "execution_count": 4,
     "metadata": {},
     "output_type": "execute_result"
    }
   ],
   "source": [
    "dataset.isnull().sum()"
   ]
  },
  {
   "cell_type": "code",
   "execution_count": null,
   "id": "86a42629-d7ee-4622-a851-63f85f427282",
   "metadata": {},
   "outputs": [],
   "source": [
    "# In Above No Any NULL Values"
   ]
  },
  {
   "cell_type": "code",
   "execution_count": 7,
   "id": "d7851f33-2648-42d7-adb8-a534cb96268e",
   "metadata": {},
   "outputs": [],
   "source": [
    "input_data = dataset.iloc[:,:-1]\n",
    "\n",
    "output_data = dataset.iloc[:,-1]"
   ]
  },
  {
   "cell_type": "code",
   "execution_count": 14,
   "id": "ebf873b6-75da-4f59-92f4-9cb8a4978933",
   "metadata": {},
   "outputs": [],
   "source": [
    "ss = StandardScaler()\n",
    "# calculates the mean and standard deviation of each feature in the input_data\n",
    "\n",
    "input_data = pd.DataFrame(ss.fit_transform(input_data),columns = input_data.columns)"
   ]
  },
  {
   "cell_type": "code",
   "execution_count": 15,
   "id": "924ade47-4672-4d7e-ae92-843493dfb172",
   "metadata": {},
   "outputs": [
    {
     "data": {
      "text/html": [
       "<div>\n",
       "<style scoped>\n",
       "    .dataframe tbody tr th:only-of-type {\n",
       "        vertical-align: middle;\n",
       "    }\n",
       "\n",
       "    .dataframe tbody tr th {\n",
       "        vertical-align: top;\n",
       "    }\n",
       "\n",
       "    .dataframe thead th {\n",
       "        text-align: right;\n",
       "    }\n",
       "</style>\n",
       "<table border=\"1\" class=\"dataframe\">\n",
       "  <thead>\n",
       "    <tr style=\"text-align: right;\">\n",
       "      <th></th>\n",
       "      <th>Creadit_Score</th>\n",
       "      <th>Age</th>\n",
       "      <th>Tenure</th>\n",
       "      <th>Balance</th>\n",
       "      <th>Number_Of_Products</th>\n",
       "      <th>HasCrCardis</th>\n",
       "      <th>Active_Member</th>\n",
       "      <th>Estimated_Salary</th>\n",
       "    </tr>\n",
       "  </thead>\n",
       "  <tbody>\n",
       "    <tr>\n",
       "      <th>0</th>\n",
       "      <td>0.042203</td>\n",
       "      <td>-1.325160</td>\n",
       "      <td>-1.939233</td>\n",
       "      <td>-0.344849</td>\n",
       "      <td>-1.720431</td>\n",
       "      <td>-1.054093</td>\n",
       "      <td>-1.172604</td>\n",
       "      <td>-0.371331</td>\n",
       "    </tr>\n",
       "    <tr>\n",
       "      <th>1</th>\n",
       "      <td>0.171671</td>\n",
       "      <td>0.640884</td>\n",
       "      <td>-0.591230</td>\n",
       "      <td>-0.344842</td>\n",
       "      <td>0.062561</td>\n",
       "      <td>0.948683</td>\n",
       "      <td>0.852803</td>\n",
       "      <td>-0.371541</td>\n",
       "    </tr>\n",
       "    <tr>\n",
       "      <th>2</th>\n",
       "      <td>0.505782</td>\n",
       "      <td>0.640884</td>\n",
       "      <td>-1.040564</td>\n",
       "      <td>-0.360934</td>\n",
       "      <td>-1.720431</td>\n",
       "      <td>-1.054093</td>\n",
       "      <td>0.852803</td>\n",
       "      <td>-0.375289</td>\n",
       "    </tr>\n",
       "    <tr>\n",
       "      <th>3</th>\n",
       "      <td>0.046380</td>\n",
       "      <td>-1.325160</td>\n",
       "      <td>-1.040564</td>\n",
       "      <td>-0.344835</td>\n",
       "      <td>-0.531770</td>\n",
       "      <td>0.948683</td>\n",
       "      <td>0.852803</td>\n",
       "      <td>-0.375506</td>\n",
       "    </tr>\n",
       "    <tr>\n",
       "      <th>4</th>\n",
       "      <td>0.092320</td>\n",
       "      <td>-0.056745</td>\n",
       "      <td>0.756774</td>\n",
       "      <td>-0.334514</td>\n",
       "      <td>0.062561</td>\n",
       "      <td>0.948683</td>\n",
       "      <td>0.852803</td>\n",
       "      <td>-0.375363</td>\n",
       "    </tr>\n",
       "    <tr>\n",
       "      <th>5</th>\n",
       "      <td>-0.371259</td>\n",
       "      <td>-0.056745</td>\n",
       "      <td>-0.141895</td>\n",
       "      <td>-0.148308</td>\n",
       "      <td>0.062561</td>\n",
       "      <td>-1.054093</td>\n",
       "      <td>-1.172604</td>\n",
       "      <td>-0.150486</td>\n",
       "    </tr>\n",
       "    <tr>\n",
       "      <th>6</th>\n",
       "      <td>1.666818</td>\n",
       "      <td>1.338512</td>\n",
       "      <td>1.655443</td>\n",
       "      <td>-0.358804</td>\n",
       "      <td>-1.126100</td>\n",
       "      <td>-1.054093</td>\n",
       "      <td>0.852803</td>\n",
       "      <td>-0.078086</td>\n",
       "    </tr>\n",
       "    <tr>\n",
       "      <th>7</th>\n",
       "      <td>1.416235</td>\n",
       "      <td>0.070097</td>\n",
       "      <td>0.756774</td>\n",
       "      <td>-0.360634</td>\n",
       "      <td>0.062561</td>\n",
       "      <td>0.948683</td>\n",
       "      <td>-1.172604</td>\n",
       "      <td>2.603316</td>\n",
       "    </tr>\n",
       "    <tr>\n",
       "      <th>8</th>\n",
       "      <td>-1.348533</td>\n",
       "      <td>-1.325160</td>\n",
       "      <td>0.307439</td>\n",
       "      <td>-0.358292</td>\n",
       "      <td>0.062561</td>\n",
       "      <td>0.948683</td>\n",
       "      <td>0.852803</td>\n",
       "      <td>-0.373486</td>\n",
       "    </tr>\n",
       "    <tr>\n",
       "      <th>9</th>\n",
       "      <td>0.326198</td>\n",
       "      <td>1.338512</td>\n",
       "      <td>-1.040564</td>\n",
       "      <td>-0.360934</td>\n",
       "      <td>-0.531770</td>\n",
       "      <td>0.948683</td>\n",
       "      <td>0.852803</td>\n",
       "      <td>-0.372780</td>\n",
       "    </tr>\n",
       "    <tr>\n",
       "      <th>10</th>\n",
       "      <td>0.284434</td>\n",
       "      <td>-1.452002</td>\n",
       "      <td>1.655443</td>\n",
       "      <td>-0.359429</td>\n",
       "      <td>0.656892</td>\n",
       "      <td>0.948683</td>\n",
       "      <td>-1.172604</td>\n",
       "      <td>-0.375716</td>\n",
       "    </tr>\n",
       "    <tr>\n",
       "      <th>11</th>\n",
       "      <td>1.574937</td>\n",
       "      <td>0.767725</td>\n",
       "      <td>-1.040564</td>\n",
       "      <td>-0.360825</td>\n",
       "      <td>1.251222</td>\n",
       "      <td>-1.054093</td>\n",
       "      <td>0.852803</td>\n",
       "      <td>-0.373486</td>\n",
       "    </tr>\n",
       "    <tr>\n",
       "      <th>12</th>\n",
       "      <td>-0.834838</td>\n",
       "      <td>-0.754373</td>\n",
       "      <td>1.206109</td>\n",
       "      <td>3.159530</td>\n",
       "      <td>1.845553</td>\n",
       "      <td>-1.054093</td>\n",
       "      <td>-1.172604</td>\n",
       "      <td>-0.375442</td>\n",
       "    </tr>\n",
       "    <tr>\n",
       "      <th>13</th>\n",
       "      <td>-0.955953</td>\n",
       "      <td>1.148250</td>\n",
       "      <td>-0.141895</td>\n",
       "      <td>-0.324924</td>\n",
       "      <td>-0.531770</td>\n",
       "      <td>-1.054093</td>\n",
       "      <td>0.852803</td>\n",
       "      <td>-0.346161</td>\n",
       "    </tr>\n",
       "    <tr>\n",
       "      <th>14</th>\n",
       "      <td>-0.709546</td>\n",
       "      <td>0.450621</td>\n",
       "      <td>0.756774</td>\n",
       "      <td>-0.360900</td>\n",
       "      <td>-1.126100</td>\n",
       "      <td>-1.054093</td>\n",
       "      <td>-1.172604</td>\n",
       "      <td>-0.353213</td>\n",
       "    </tr>\n",
       "    <tr>\n",
       "      <th>15</th>\n",
       "      <td>-1.348533</td>\n",
       "      <td>-0.754373</td>\n",
       "      <td>-1.040564</td>\n",
       "      <td>-0.359289</td>\n",
       "      <td>0.656892</td>\n",
       "      <td>0.948683</td>\n",
       "      <td>0.852803</td>\n",
       "      <td>3.183311</td>\n",
       "    </tr>\n",
       "    <tr>\n",
       "      <th>16</th>\n",
       "      <td>-0.880778</td>\n",
       "      <td>0.640884</td>\n",
       "      <td>0.756774</td>\n",
       "      <td>2.644649</td>\n",
       "      <td>1.845553</td>\n",
       "      <td>0.948683</td>\n",
       "      <td>-1.172604</td>\n",
       "      <td>-0.375368</td>\n",
       "    </tr>\n",
       "    <tr>\n",
       "      <th>17</th>\n",
       "      <td>1.666818</td>\n",
       "      <td>1.338512</td>\n",
       "      <td>-0.141895</td>\n",
       "      <td>-0.360931</td>\n",
       "      <td>0.062561</td>\n",
       "      <td>-1.054093</td>\n",
       "      <td>0.852803</td>\n",
       "      <td>-0.372036</td>\n",
       "    </tr>\n",
       "    <tr>\n",
       "      <th>18</th>\n",
       "      <td>-1.344357</td>\n",
       "      <td>-1.325160</td>\n",
       "      <td>0.307439</td>\n",
       "      <td>-0.360934</td>\n",
       "      <td>0.656892</td>\n",
       "      <td>0.948683</td>\n",
       "      <td>-1.172604</td>\n",
       "      <td>-0.371338</td>\n",
       "    </tr>\n",
       "  </tbody>\n",
       "</table>\n",
       "</div>"
      ],
      "text/plain": [
       "    Creadit_Score       Age    Tenure   Balance  Number_Of_Products  \\\n",
       "0        0.042203 -1.325160 -1.939233 -0.344849           -1.720431   \n",
       "1        0.171671  0.640884 -0.591230 -0.344842            0.062561   \n",
       "2        0.505782  0.640884 -1.040564 -0.360934           -1.720431   \n",
       "3        0.046380 -1.325160 -1.040564 -0.344835           -0.531770   \n",
       "4        0.092320 -0.056745  0.756774 -0.334514            0.062561   \n",
       "5       -0.371259 -0.056745 -0.141895 -0.148308            0.062561   \n",
       "6        1.666818  1.338512  1.655443 -0.358804           -1.126100   \n",
       "7        1.416235  0.070097  0.756774 -0.360634            0.062561   \n",
       "8       -1.348533 -1.325160  0.307439 -0.358292            0.062561   \n",
       "9        0.326198  1.338512 -1.040564 -0.360934           -0.531770   \n",
       "10       0.284434 -1.452002  1.655443 -0.359429            0.656892   \n",
       "11       1.574937  0.767725 -1.040564 -0.360825            1.251222   \n",
       "12      -0.834838 -0.754373  1.206109  3.159530            1.845553   \n",
       "13      -0.955953  1.148250 -0.141895 -0.324924           -0.531770   \n",
       "14      -0.709546  0.450621  0.756774 -0.360900           -1.126100   \n",
       "15      -1.348533 -0.754373 -1.040564 -0.359289            0.656892   \n",
       "16      -0.880778  0.640884  0.756774  2.644649            1.845553   \n",
       "17       1.666818  1.338512 -0.141895 -0.360931            0.062561   \n",
       "18      -1.344357 -1.325160  0.307439 -0.360934            0.656892   \n",
       "\n",
       "    HasCrCardis  Active_Member  Estimated_Salary  \n",
       "0     -1.054093      -1.172604         -0.371331  \n",
       "1      0.948683       0.852803         -0.371541  \n",
       "2     -1.054093       0.852803         -0.375289  \n",
       "3      0.948683       0.852803         -0.375506  \n",
       "4      0.948683       0.852803         -0.375363  \n",
       "5     -1.054093      -1.172604         -0.150486  \n",
       "6     -1.054093       0.852803         -0.078086  \n",
       "7      0.948683      -1.172604          2.603316  \n",
       "8      0.948683       0.852803         -0.373486  \n",
       "9      0.948683       0.852803         -0.372780  \n",
       "10     0.948683      -1.172604         -0.375716  \n",
       "11    -1.054093       0.852803         -0.373486  \n",
       "12    -1.054093      -1.172604         -0.375442  \n",
       "13    -1.054093       0.852803         -0.346161  \n",
       "14    -1.054093      -1.172604         -0.353213  \n",
       "15     0.948683       0.852803          3.183311  \n",
       "16     0.948683      -1.172604         -0.375368  \n",
       "17    -1.054093       0.852803         -0.372036  \n",
       "18     0.948683      -1.172604         -0.371338  "
      ]
     },
     "execution_count": 15,
     "metadata": {},
     "output_type": "execute_result"
    }
   ],
   "source": [
    "input_data"
   ]
  },
  {
   "cell_type": "code",
   "execution_count": 26,
   "id": "227355e8-8f8b-464f-833a-7c814978907f",
   "metadata": {},
   "outputs": [
    {
     "data": {
      "text/plain": [
       "(19, 8)"
      ]
     },
     "execution_count": 26,
     "metadata": {},
     "output_type": "execute_result"
    }
   ],
   "source": [
    "input_data.shape"
   ]
  },
  {
   "cell_type": "code",
   "execution_count": 28,
   "id": "ef765fc5-fe3b-4416-8149-996d9d47e298",
   "metadata": {},
   "outputs": [],
   "source": [
    "x_train, x_test, y_train, y_test = train_test_split(input_data, output_data, test_size=0.2, random_state=42)"
   ]
  },
  {
   "cell_type": "code",
   "execution_count": 34,
   "id": "e68d7688-7b23-46e7-8449-4a8097814cb0",
   "metadata": {},
   "outputs": [
    {
     "data": {
      "text/plain": [
       "(15, 8)"
      ]
     },
     "execution_count": 34,
     "metadata": {},
     "output_type": "execute_result"
    }
   ],
   "source": [
    "x_train.shape"
   ]
  },
  {
   "cell_type": "code",
   "execution_count": 29,
   "id": "a2aaad5e-05fa-43fc-a1d1-afb8aeaa39ef",
   "metadata": {},
   "outputs": [],
   "source": [
    "import tensorflow"
   ]
  },
  {
   "cell_type": "code",
   "execution_count": 30,
   "id": "0af62f3c-1337-44e5-8a80-870277cecd7e",
   "metadata": {},
   "outputs": [],
   "source": [
    "from keras.layers import Dense\n",
    "from keras.models import Sequential"
   ]
  },
  {
   "cell_type": "code",
   "execution_count": 31,
   "id": "867294e9-a2f5-4cf9-a3d7-8495f711e2e0",
   "metadata": {},
   "outputs": [],
   "source": [
    "ann = Sequential()"
   ]
  },
  {
   "cell_type": "code",
   "execution_count": 32,
   "id": "13bc306b-8994-49ff-b191-00902c9c9194",
   "metadata": {},
   "outputs": [],
   "source": [
    "from keras.models import Sequential\n",
    "from keras.layers import Dense\n",
    "\n",
    "# Create a new neural network model\n",
    "ann = Sequential()\n",
    "\n",
    "# Add the first hidden layer with 6 neurons, input dimension of 8, and ReLU activation\n",
    "ann.add(Dense(6, input_dim = 8, activation=\"relu\"))\n",
    "\n",
    "# Add the second hidden layer with 4 neurons and ReLU activation\n",
    "ann.add(Dense(4, activation=\"relu\"))\n",
    "\n",
    "# Add the third hidden layer with 2 neurons and ReLU activation\n",
    "ann.add(Dense(2, activation=\"relu\"))\n",
    "\n",
    "# Add the output layer with 1 neuron and sigmoid activation\n",
    "ann.add(Dense(1, activation=\"sigmoid\"))\n",
    "\n",
    "# Compile the model\n",
    "ann.compile(optimizer = 'adam', loss = 'binary_crossentropy', metrics = ['accuracy'])"
   ]
  },
  {
   "cell_type": "code",
   "execution_count": 25,
   "id": "350ff5a8-278e-4ed0-898f-d1faba1d7378",
   "metadata": {},
   "outputs": [],
   "source": [
    "# ann.compile(optimizer = 'adam',loss = 'binary_crossentropy',metrics=['accuray'])"
   ]
  },
  {
   "cell_type": "code",
   "execution_count": 36,
   "id": "b44642ae-8d63-4a5f-ab89-4af71b0cf6da",
   "metadata": {},
   "outputs": [
    {
     "name": "stdout",
     "output_type": "stream",
     "text": [
      "Epoch 1/5\n",
      "\u001b[1m3/3\u001b[0m \u001b[32m━━━━━━━━━━━━━━━━━━━━\u001b[0m\u001b[37m\u001b[0m \u001b[1m0s\u001b[0m 3ms/step - accuracy: 0.5333 - loss: 0.6389  \n",
      "Epoch 2/5\n",
      "\u001b[1m3/3\u001b[0m \u001b[32m━━━━━━━━━━━━━━━━━━━━\u001b[0m\u001b[37m\u001b[0m \u001b[1m0s\u001b[0m 2ms/step - accuracy: 0.4583 - loss: 0.6546 \n",
      "Epoch 3/5\n",
      "\u001b[1m3/3\u001b[0m \u001b[32m━━━━━━━━━━━━━━━━━━━━\u001b[0m\u001b[37m\u001b[0m \u001b[1m0s\u001b[0m 1ms/step - accuracy: 0.4333 - loss: 0.6624 \n",
      "Epoch 4/5\n",
      "\u001b[1m3/3\u001b[0m \u001b[32m━━━━━━━━━━━━━━━━━━━━\u001b[0m\u001b[37m\u001b[0m \u001b[1m0s\u001b[0m 3ms/step - accuracy: 0.4083 - loss: 0.6726 \n",
      "Epoch 5/5\n",
      "\u001b[1m3/3\u001b[0m \u001b[32m━━━━━━━━━━━━━━━━━━━━\u001b[0m\u001b[37m\u001b[0m \u001b[1m0s\u001b[0m 2ms/step - accuracy: 0.4583 - loss: 0.6525 \n"
     ]
    },
    {
     "data": {
      "text/plain": [
       "<keras.src.callbacks.history.History at 0x1c23d0877a0>"
      ]
     },
     "execution_count": 36,
     "metadata": {},
     "output_type": "execute_result"
    }
   ],
   "source": [
    "ann.fit(x_train, y_train, batch_size=5,epochs=5) # Total = 15,8"
   ]
  },
  {
   "cell_type": "code",
   "execution_count": 39,
   "id": "f15ea7b1-4720-4b99-8b5d-9a131a7dbaeb",
   "metadata": {},
   "outputs": [
    {
     "name": "stdout",
     "output_type": "stream",
     "text": [
      "\u001b[1m1/1\u001b[0m \u001b[32m━━━━━━━━━━━━━━━━━━━━\u001b[0m\u001b[37m\u001b[0m \u001b[1m0s\u001b[0m 14ms/step\n"
     ]
    }
   ],
   "source": [
    "prd = ann.predict(x_test)"
   ]
  },
  {
   "cell_type": "code",
   "execution_count": 40,
   "id": "144f2d8e-67f4-44a6-a5b0-0fe507ce1795",
   "metadata": {},
   "outputs": [
    {
     "data": {
      "text/plain": [
       "array([[0.4827946 ],\n",
       "       [0.48053947],\n",
       "       [0.5090201 ],\n",
       "       [0.5272212 ]], dtype=float32)"
      ]
     },
     "execution_count": 40,
     "metadata": {},
     "output_type": "execute_result"
    }
   ],
   "source": [
    "prd"
   ]
  },
  {
   "cell_type": "code",
   "execution_count": 42,
   "id": "1eacbead-09a6-4bcb-913c-355c271f98db",
   "metadata": {},
   "outputs": [
    {
     "name": "stdout",
     "output_type": "stream",
     "text": [
      "0.4827946\n",
      "0.48053947\n",
      "0.5090201\n",
      "0.5272212\n"
     ]
    }
   ],
   "source": [
    "for i in prd:\n",
    "    print(i[0])"
   ]
  },
  {
   "cell_type": "code",
   "execution_count": 37,
   "id": "96b0731e-ffa1-49e0-895e-b289264633c9",
   "metadata": {},
   "outputs": [],
   "source": [
    "from sklearn.metrics import accuracy_score"
   ]
  },
  {
   "cell_type": "code",
   "execution_count": 44,
   "id": "437e3816-64f5-4afb-8319-73a82869ddce",
   "metadata": {},
   "outputs": [],
   "source": [
    "prd_data = []\n",
    "for i in prd:\n",
    "    if i[0] > 0.5:\n",
    "        prd_data.append(1)\n",
    "    else:\n",
    "        prd_data.append(0)"
   ]
  },
  {
   "cell_type": "code",
   "execution_count": 47,
   "id": "f36ba61e-1cf2-4a89-aa8c-1d23e5247b47",
   "metadata": {},
   "outputs": [
    {
     "name": "stdout",
     "output_type": "stream",
     "text": [
      "TeSt---ACCURECY----\n"
     ]
    },
    {
     "data": {
      "text/plain": [
       "50.0"
      ]
     },
     "execution_count": 47,
     "metadata": {},
     "output_type": "execute_result"
    }
   ],
   "source": [
    "print(\"TeSt---ACCURECY----\")\n",
    "accuracy_score(y_test,prd_data)*100"
   ]
  }
 ],
 "metadata": {
  "kernelspec": {
   "display_name": "Python 3 (ipykernel)",
   "language": "python",
   "name": "python3"
  },
  "language_info": {
   "codemirror_mode": {
    "name": "ipython",
    "version": 3
   },
   "file_extension": ".py",
   "mimetype": "text/x-python",
   "name": "python",
   "nbconvert_exporter": "python",
   "pygments_lexer": "ipython3",
   "version": "3.12.3"
  }
 },
 "nbformat": 4,
 "nbformat_minor": 5
}
